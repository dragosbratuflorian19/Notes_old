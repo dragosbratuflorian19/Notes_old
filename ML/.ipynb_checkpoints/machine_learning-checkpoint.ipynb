{
 "cells": [
  {
   "cell_type": "markdown",
   "metadata": {},
   "source": [
    "# Regression\n",
    "### The most popular regression algorithms are:\n",
    "1. Linear Regression\n",
    "2. Logistic Regression\n",
    "3. Ordinary Least Squares Regression (OLSR)\n",
    "4. Stepwise Regression\n",
    "5. Multivariate Adaptive Regression Splines (MARS)\n",
    "6. Locally Estimated Scatterplot Smoothing (LOESS)\n",
    "\n",
    "# Classification\n",
    "### The most popular instance-based algorithms are:\n",
    "1. k-Nearest Neighbor (kNN)\n",
    "2. Learning Vector Quantization (LVQ)\n",
    "3. Self-Organizing Map (SOM)\n",
    "4. Locally Weighted Learning (LWL)\n",
    "5. Support Vector Machines (SVM)\n",
    "\n",
    "\n",
    "# Clustering\n",
    "### The most popular clustering algorithms are:\n",
    "1. k-Means\n",
    "2. k-Medians\n",
    "3. Expectation Maximisation (EM)\n",
    "4. Hierarchical Clustering\n",
    "\n",
    "# The most popular Bayesian algorithms are:\n",
    "1. Naive Bayes\n",
    "2. Gaussian Naive Bayes\n",
    "3. Multinomial Naive Bayes\n",
    "4. Averaged One-Dependence Estimators (AODE)\n",
    "5. Bayesian Belief Network (BBN)\n",
    "6. Bayesian Network (BN)\n",
    "\n",
    "# Algorithms\n",
    "1. Decision Tree\n",
    "2. Random Forest\n",
    "3. Dimensionality Reduction Algorithms\n",
    "4. Gradient Boosting algorithms\n",
    "5. GBM\n",
    "6. XGBoost\n",
    "7. LightGBM\n",
    "8. CatBoost"
   ]
  }
 ],
 "metadata": {
  "kernelspec": {
   "display_name": "Python 3",
   "language": "python",
   "name": "python3"
  },
  "language_info": {
   "codemirror_mode": {
    "name": "ipython",
    "version": 3
   },
   "file_extension": ".py",
   "mimetype": "text/x-python",
   "name": "python",
   "nbconvert_exporter": "python",
   "pygments_lexer": "ipython3",
   "version": "3.7.6"
  }
 },
 "nbformat": 4,
 "nbformat_minor": 4
}
